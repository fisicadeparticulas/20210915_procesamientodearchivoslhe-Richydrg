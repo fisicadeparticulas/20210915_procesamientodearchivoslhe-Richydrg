{
  "nbformat": 4,
  "nbformat_minor": 0,
  "metadata": {
    "colab": {
      "name": "Untitled5.ipynb",
      "provenance": [],
      "mount_file_id": "https://github.com/fisicadeparticulas/20210915_procesamientodearchivoslhe-Richydrg/blob/main/Angulos%20%CE%A6.ipynb",
      "authorship_tag": "ABX9TyNPwxFMiEXUzu9sldGBBuMg",
      "include_colab_link": true
    },
    "kernelspec": {
      "name": "python3",
      "display_name": "Python 3"
    },
    "language_info": {
      "name": "python"
    }
  },
  "cells": [
    {
      "cell_type": "markdown",
      "metadata": {
        "id": "view-in-github",
        "colab_type": "text"
      },
      "source": [
        "<a href=\"https://colab.research.google.com/github/fisicadeparticulas/20210915_procesamientodearchivoslhe-Richydrg/blob/main/Angulos%20%CE%A6%20con%20cos.ipynb\" target=\"_parent\"><img src=\"https://colab.research.google.com/assets/colab-badge.svg\" alt=\"Open In Colab\"/></a>"
      ]
    },
    {
      "cell_type": "code",
      "metadata": {
        "colab": {
          "base_uri": "https://localhost:8080/",
          "height": 761
        },
        "id": "8ks8BtexkDkZ",
        "outputId": "63ec1082-f6c2-4aed-9fd0-db9537c5217b"
      },
      "source": [
        "import pandas as pd\n",
        "import numpy as np\n",
        "import matplotlib.pyplot as plt\n",
        "from scipy.stats import norm\n",
        "\n",
        "eventos=pd.read_csv(\"/content/drive/MyDrive/Fis_Particulas/Muones 2.csv\")\n",
        "eventos.head()\n",
        "\n",
        "data=np.genfromtxt(\"/content/drive/MyDrive/Fis_Particulas/Muones 2.csv\", delimiter=\",\", names=[\"x\",\"px1\",\"py1\",\"pz1\",\"E1\",\"px2\",\"py2\",\"pz2\",\"E2\"])\n",
        "\n",
        "pt1=np.sqrt(data[\"px1\"]**2+data[\"py1\"]**2)\n",
        "pt2=np.sqrt(data[\"px2\"]**2+data[\"py2\"]**2)\n",
        "\n",
        "Φ1=np.arccos(data[\"py1\"]/pt1)\n",
        "plt.hist(Φ1)\n",
        "plt.show()\n",
        "\n",
        "Φ2=np.arccos(data[\"py2\"]/pt2)\n",
        "plt.hist(Φ2)\n",
        "plt.show()\n",
        "\n",
        "dΦ=Φ2-Φ1\n",
        "plt.hist(dΦ)\n",
        "plt.show()\n",
        "\n",
        "\n"
      ],
      "execution_count": 8,
      "outputs": [
        {
          "output_type": "display_data",
          "data": {
            "image/png": "[encoded data removed]",
            "text/plain": [
              "<Figure size 432x288 with 1 Axes>"
            ]
          },
          "metadata": {
            "needs_background": "light"
          }
        },
        {
          "output_type": "display_data",
          "data": {
            "image/png": "[encoded data removed]",
            "text/plain": [
              "<Figure size 432x288 with 1 Axes>"
            ]
          },
          "metadata": {
            "needs_background": "light"
          }
        },
        {
          "output_type": "display_data",
          "data": {
            "image/png": "[encoded data removed]",
            "text/plain": [
              "<Figure size 432x288 with 1 Axes>"
            ]
          },
          "metadata": {
            "needs_background": "light"
          }
        }
      ]
    }
  ]
}