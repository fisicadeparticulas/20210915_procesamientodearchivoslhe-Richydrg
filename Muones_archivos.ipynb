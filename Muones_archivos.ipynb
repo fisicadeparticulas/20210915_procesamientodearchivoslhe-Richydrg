{
  "nbformat": 4,
  "nbformat_minor": 0,
  "metadata": {
    "colab": {
      "name": "Muones_archivos.ipynb",
      "provenance": [],
      "collapsed_sections": [],
      "mount_file_id": "11LHEhmf4gIMAdUkp2IcGJfwVt-BLCZFU",
      "authorship_tag": "ABX9TyMAAyqQI3eCk899KgYpcEbK",
      "include_colab_link": true
    },
    "kernelspec": {
      "name": "python3",
      "display_name": "Python 3"
    },
    "language_info": {
      "name": "python"
    }
  },
  "cells": [
    {
      "cell_type": "markdown",
      "metadata": {
        "id": "view-in-github",
        "colab_type": "text"
      },
      "source": [
        "<a href=\"https://colab.research.google.com/github/fisicadeparticulas/20210915_procesamientodearchivoslhe-Richydrg/blob/main/Muones_archivos.ipynb\" target=\"_parent\"><img src=\"https://colab.research.google.com/assets/colab-badge.svg\" alt=\"Open In Colab\"/></a>"
      ]
    },
    {
      "cell_type": "code",
      "metadata": {
        "colab": {
          "base_uri": "https://localhost:8080/",
          "height": 265
        },
        "id": "odL34QRvEeLp",
        "outputId": "0293e646-1f70-45b9-ae3d-c685ebab221f"
      },
      "source": [
        "%shell\n",
        "!cat /content/drive/MyDrive/Fis_Particulas/unweighted_events.lhe | grep \"13  \" | awk '{print $7\", \"$8\", \"$9\", \"$10}' > /content/drive/MyDrive/Fis_Particulas/Muones.csv\n",
        "\n",
        "\n",
        "import pandas as pd\n",
        "import numpy as np\n",
        "import matplotlib.pyplot as plt\n",
        "from scipy.stats import norm\n",
        "\n",
        "events=pd.read_csv(\"/content/drive/MyDrive/Fis_Particulas/Muones.csv\")\n",
        "events.head()\n",
        "\n",
        "data = np.genfromtxt(\"/content/drive/MyDrive/Fis_Particulas/Muones.csv\", delimiter=\", \", names=[\"px\",\"py\",\"pz\",\"E\"] )\n",
        "\n",
        "#Momento transversal\n",
        "plt.hist(np.sqrt(data['px']*data['px']+data['py']*data['py']))\n",
        "#Momento\n",
        "#plt.hist(np.sqrt(data['px']*data['px']+data['py']*data['py']+data['pz']*data['pz']))\n",
        "plt.show()"
      ],
      "execution_count": null,
      "outputs": [
        {
          "output_type": "display_data",
          "data": {
            "image/png": "[encoded data removed]",
            "text/plain": [
              "<Figure size 432x288 with 1 Axes>"
            ]
          },
          "metadata": {
            "needs_background": "light"
          }
        }
      ]
    }
  ]
}