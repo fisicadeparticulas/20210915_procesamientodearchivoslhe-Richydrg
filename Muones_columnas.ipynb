{
  "nbformat": 4,
  "nbformat_minor": 0,
  "metadata": {
    "colab": {
      "name": "Untitled3.ipynb",
      "provenance": [],
      "mount_file_id": "https://github.com/fisicadeparticulas/20210915_procesamientodearchivoslhe-Richydrg/blob/main/Muones_columnas.ipynb",
      "authorship_tag": "ABX9TyP4YKHqKQtfYlrEmrTWlTuR",
      "include_colab_link": true
    },
    "kernelspec": {
      "name": "python3",
      "display_name": "Python 3"
    },
    "language_info": {
      "name": "python"
    }
  },
  "cells": [
    {
      "cell_type": "markdown",
      "metadata": {
        "id": "view-in-github",
        "colab_type": "text"
      },
      "source": [
        "<a href=\"https://colab.research.google.com/github/fisicadeparticulas/20210915_procesamientodearchivoslhe-Richydrg/blob/main/Muones_columnas.ipynb\" target=\"_parent\"><img src=\"https://colab.research.google.com/assets/colab-badge.svg\" alt=\"Open In Colab\"/></a>"
      ]
    },
    {
      "cell_type": "code",
      "metadata": {
        "colab": {
          "base_uri": "https://localhost:8080/"
        },
        "id": "9BaoLod6R-RY",
        "outputId": "7ddb6c02-d850-48ca-a739-3260cd662616"
      },
      "source": [
        "import pandas as pd\n",
        "import csv\n",
        "import numpy as np      \n",
        "import matplotlib.pyplot as plt\n",
        "from google.colab import drive\n",
        "\n",
        "df = pd.read_table('/content/drive/MyDrive/Fis_Particulas/Muones.csv',delimiter=',',header=None)\n",
        "\n",
        "df_1=df.iloc[lambda x: x.index % 2 == 0]\n",
        "\n",
        "df_1=df_1.reset_index(drop=True)\n",
        "\n",
        "df_2=df.iloc[lambda x: x.index % 2 != 0]\n",
        "df_2=df_2.reset_index(drop=True)\n",
        "df_2.rename(columns= {df_2.columns[0]: 'px*',\n",
        "                      df_2.columns[1]: 'py*',\n",
        "                      df_2.columns[2]: 'pz*',\n",
        "                      df_2.columns[3]: 'E*'}, inplace=True)\n",
        "\n",
        "df_3=df_1.join(df_2)\n",
        "df_3.rename(columns= {df_3.columns[0]: 'px',\n",
        "                      df_3.columns[1]: 'py',\n",
        "                      df_3.columns[2]: 'pz',\n",
        "                      df_3.columns[3]: 'E'}, inplace=True)\n",
        "print(df_3.head())\n",
        "df_3.to_csv('/content/drive/MyDrive/Fis_Particulas/Muones 2.csv')"
      ],
      "execution_count": 5,
      "outputs": [
        {
          "output_type": "stream",
          "name": "stdout",
          "text": [
            "          px         py          pz  ...        py*         pz*          E*\n",
            "0 -25.416007  35.010752   86.334113  ... -35.010752   39.850978   58.820291\n",
            "1  15.612459 -33.486087   15.291070  ...  33.486087  102.211484  108.684196\n",
            "2 -12.683705  15.981324  111.997587  ... -15.981324  -11.016872   23.187293\n",
            "3  13.174934  42.043646  -19.199519  ... -42.043646  -42.374808   61.129955\n",
            "4 -37.019273  -4.414691   77.437419  ...   4.414691  156.310601  160.695115\n",
            "\n",
            "[5 rows x 8 columns]\n"
          ]
        }
      ]
    }
  ]
}